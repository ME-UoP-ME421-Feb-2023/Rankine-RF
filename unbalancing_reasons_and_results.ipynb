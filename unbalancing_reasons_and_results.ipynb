{
  "nbformat": 4,
  "nbformat_minor": 0,
  "metadata": {
    "colab": {
      "provenance": []
    },
    "kernelspec": {
      "name": "python3",
      "display_name": "Python 3"
    },
    "language_info": {
      "name": "python"
    }
  },
  "cells": [
    {
      "cell_type": "markdown",
      "source": [
        "**Unbalance of a rotor could result in,**\\\n",
        "1.Increase in stress\\\n",
        "2.Damages to the structure\\\n",
        "3.Damages to the bearings and seals\\\n",
        "4.Amplification in resonance\n",
        "\n",
        "\n",
        "**Reasons to unbalance a rotor,**\\\n",
        "1.Dirt build up\\\n",
        "2.Loss of material due to wear or cavitation\\\n",
        "3.Improper manufacture such as poor casting\\\n",
        "4.Loss of parts such as balancing weights and fastners.\n"
      ],
      "metadata": {
        "id": "kKb68i3WGUid"
      }
    }
  ]
}