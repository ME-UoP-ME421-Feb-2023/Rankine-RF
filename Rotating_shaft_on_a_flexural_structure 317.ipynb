{
  "nbformat": 4,
  "nbformat_minor": 0,
  "metadata": {
    "colab": {
      "provenance": []
    },
    "kernelspec": {
      "name": "python3",
      "display_name": "Python 3"
    },
    "language_info": {
      "name": "python"
    }
  },
  "cells": [
    {
      "cell_type": "markdown",
      "source": [
        "#Q - Rotating shaft on a flexural structure: Group Rankine-RF"
      ],
      "metadata": {
        "id": "lpg1Db5nmSFS"
      }
    },
    {
      "cell_type": "markdown",
      "source": [
        "##Group Assignment "
      ],
      "metadata": {
        "id": "73S7q2DByHyb"
      }
    },
    {
      "cell_type": "markdown",
      "source": [
        "* E/17/031\n",
        "* E/17/152\n",
        "* E/17/169\n",
        "* E/17/317"
      ],
      "metadata": {
        "id": "_Ggal6NIz3bu"
      }
    },
    {
      "cell_type": "markdown",
      "source": [
        "##Problem Description"
      ],
      "metadata": {
        "id": "IFQpCVN9ytzZ"
      }
    },
    {
      "cell_type": "markdown",
      "source": [
        "* https://youtu.be/R2hO--TIjjA"
      ],
      "metadata": {
        "id": "hK0Teg-GmaCZ"
      }
    },
    {
      "cell_type": "markdown",
      "source": [
        "\n",
        "\n",
        "1.   Answer the in the lab, [pre-requisite competency assessment quiz.](https://feelsnew.pdn.ac.lk/mod/quiz/view.php?id=7869)\n",
        "2.   With detailed justification derive a finite dimensional approximation of the small amplitude motion of the system shown in the video assigned to your group. The model should capture the first four modes of resonance of the system.\n",
        "3. Simulate and animate the small amplitude motion of the system and use the simulations to provide, with justification, a qualitative desrcription of the small amplitude motion of the system\n",
        "4. Provide at least two soultions that will allow you to safely operate at frequencies near the second mode of resonance of the system. Justify your answer using simulations and compare the pros and cons of the two solutions.\n",
        "4. Use a Rashpberry Pi based data aquistion system and use that to measure the natural frequencies of the 2-DOF rotational plus translational system in the applied mechanics lab using FFTs methods.\n",
        "5. All your work will be collected and reported in a .ipynb notebook that will be maintained in a Github repository allocated to your group. All equations and mathematical expressions should be typed in LaTeX and all comutations should be performed using Python and should be contained in the same .ipynb notebbok.\n",
        "\n"
      ],
      "metadata": {
        "id": "-B7sQ99164ym"
      }
    },
    {
      "cell_type": "markdown",
      "source": [
        "**Static Balance**\n",
        "simple situation where two masses are mounted on a shaft. If the shaft is to be statically balanced, the moment due to weight of mass (1) tending to rotate the shaft clockwise must equal that of mass (2) trying to turn the shaft in the opposite direction.\n",
        "\n",
        "\\begin{align}\n",
        "W_1r_1=W_2 r_2 ---------(1)\n",
        "\\end{align}\n",
        "\n",
        " Hence for static balance,The same principle holds if there are more than two masses mounted on the shaft.\n",
        "\n",
        " \\begin{align}\n",
        "W_1r_1cos(\\alpha_1)=W_2r_2cos(\\alpha_2)+ W_3r_3cos(\\alpha_3)\n",
        "\\end{align}\n",
        "\n",
        "**Dynamic Balancing**\n",
        "The masses are subjected to centrifugal forces when the shaft is rotating. Two conditions must be satisfied if the shaft is not to vibrate as it rotates:\n",
        "\n",
        "1. There must be no out of balance centrifugal force trying to deflect the shaft.\n",
        "\n",
        "2. There must be no out of balance moment or couple trying to twist the shaft.\n",
        "\n",
        "If these conditions are not fulfilled, the shaft is not dynamically balanced.\n",
        "\n",
        "Apply condition 1,\n",
        "\n",
        "\\begin{align}\n",
        "F_1=F_2 -------(3)\n",
        "\\end{align}\n",
        "\n",
        "The centrigugal force is $mr\\omega^2$ or $W/2r\\omega^2$. Hence by (3),\n",
        "\n",
        "\\begin{align}\n",
        "\\frac{W_1}{g}r_1\\omega^2 =\\frac{W_2}{r_2}r_2\\omega^2\n",
        "\\end{align}\n",
        "\n",
        "The angular speed of rotation is the same for each mass so that for dynamic balance,\n",
        "\n",
        "\\begin{align}\n",
        "W_1r_1=W_2r_2\n",
        "\\end{align}\n",
        "\n",
        "This is the same result obtained in equation (1) for the balance of the shaft. thus if a shaft is dynamically balanced it will also be statically balanced.\n",
        "\n",
        "The second condition is satisfied by taking moments about some convenient datum such as one of the bearings. Thus,\n",
        "\n",
        "\\begin{align}\n",
        "a_1F_1=a_2F_2\n",
        "\\end{align}\n",
        "\n"
      ],
      "metadata": {
        "id": "Wsq9CDA1xo0k"
      }
    },
    {
      "cell_type": "markdown",
      "source": [
        "**motion equations for the static unbalance**\n",
        "\\begin{align}\n",
        "m\\ddot{x}+b\\dot{x}+kx=Fcos(wt) \\\\\n",
        "m\\ddot{y}+b\\dot{y}+ky=Fsin(wt)\n",
        "\\end{align}\n",
        "where $b$ is the damping coefficient and $k$ is spring coefficient"
      ],
      "metadata": {
        "id": "tW1sD4eF83gx"
      }
    },
    {
      "cell_type": "markdown",
      "source": [
        "**motion equations for dynamic unbalance**\n",
        "\\begin{align}\n",
        "I\\ddot{\\theta}_{x}+\\omega I\\dot{\\theta}_{y}+K\\theta_{x} = Mcos(wt) \\\\\n",
        "I\\ddot{\\theta}_{y}-\\omega I\\dot{\\theta}_{x}+K\\theta_{y} = Msin(wt)\n",
        "\\end{align}"
      ],
      "metadata": {
        "id": "jpgEdzDb9wZC"
      }
    },
    {
      "cell_type": "markdown",
      "source": [
        "![image.png](data:image/png;base64,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)\n",
        "\n",
        "Static Unbalance Rotating System"
      ],
      "metadata": {
        "id": "_9amPGV5_Jhs"
      }
    },
    {
      "cell_type": "markdown",
      "source": [
        "![image.png](data:image/png;base64,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)\n",
        "\n",
        "Dyanamc UNbalance Rotating System"
      ],
      "metadata": {
        "id": "Axcm8U5q_QTq"
      }
    },
    {
      "cell_type": "markdown",
      "source": [
        "Adding the Balancing mass\n",
        "\n",
        "Dyanamic Balancing:\n",
        "\n",
        "\\begin{align}\n",
        "I_t\\ddot{\\theta}+\\omega I_p\\dot{\\theta_y}+k\\theta=Mcos(wt)-(m_b1+m_b2)(i-i_1-i_2)r_b\\omega^2 cos(\\omega t) \\\\\n",
        "\\end{align}"
      ],
      "metadata": {
        "id": "T9S93isD_Zsh"
      }
    }
  ]
}